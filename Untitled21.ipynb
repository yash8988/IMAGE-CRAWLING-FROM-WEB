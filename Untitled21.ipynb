{
  "nbformat": 4,
  "nbformat_minor": 0,
  "metadata": {
    "colab": {
      "provenance": [],
      "authorship_tag": "ABX9TyMJ1kdjK3mjv5dMc8aqeatu",
      "include_colab_link": true
    },
    "kernelspec": {
      "name": "python3",
      "display_name": "Python 3"
    },
    "language_info": {
      "name": "python"
    }
  },
  "cells": [
    {
      "cell_type": "markdown",
      "metadata": {
        "id": "view-in-github",
        "colab_type": "text"
      },
      "source": [
        "<a href=\"https://colab.research.google.com/github/yash8988/IMAGE-CRAWLING-FROM-WEB/blob/main/Untitled21.ipynb\" target=\"_parent\"><img src=\"https://colab.research.google.com/assets/colab-badge.svg\" alt=\"Open In Colab\"/></a>"
      ]
    },
    {
      "cell_type": "code",
      "execution_count": 6,
      "metadata": {
        "colab": {
          "base_uri": "https://localhost:8080/"
        },
        "id": "5ViZWqOhYXPk",
        "outputId": "32b8c685-e213-47bc-b54c-59d3b281293d"
      },
      "outputs": [
        {
          "output_type": "stream",
          "name": "stdout",
          "text": [
            "Drive already mounted at /content/drive; to attempt to forcibly remount, call drive.mount(\"/content/drive\", force_remount=True).\n",
            "Found 1100 images belonging to 2 classes.\n",
            "Found 301 images belonging to 2 classes.\n",
            "Epoch 1/5\n",
            "62/62 [==============================] - 230s 4s/step - loss: 0.1864 - accuracy: 0.9393 - val_loss: 0.2358 - val_accuracy: 0.9219\n",
            "Epoch 2/5\n",
            "62/62 [==============================] - 181s 3s/step - loss: 0.2442 - accuracy: 0.9534 - val_loss: 0.0256 - val_accuracy: 0.9896\n",
            "Epoch 3/5\n",
            "62/62 [==============================] - 148s 2s/step - loss: 0.0230 - accuracy: 0.9939 - val_loss: 0.0253 - val_accuracy: 0.9844\n",
            "Epoch 4/5\n",
            "62/62 [==============================] - 152s 2s/step - loss: 0.0028 - accuracy: 0.9990 - val_loss: 7.4349e-04 - val_accuracy: 1.0000\n",
            "Epoch 5/5\n",
            "62/62 [==============================] - 151s 2s/step - loss: 7.0653e-04 - accuracy: 1.0000 - val_loss: 0.0016 - val_accuracy: 1.0000\n"
          ]
        }
      ],
      "source": [
        "import tensorflow as tf\n",
        "from tensorflow.keras.models import Sequential\n",
        "from tensorflow.keras.layers import Conv2D, MaxPooling2D, Flatten, Dense\n",
        "from tensorflow.keras.preprocessing.image import ImageDataGenerator\n",
        "\n",
        "\n",
        "from google.colab import drive\n",
        "drive.mount('/content/drive')\n",
        "\n",
        "\n",
        "train_data_dir = '/content/drive/MyDrive/train'\n",
        "validation_data_dir = '/content/drive/MyDrive/validation'\n",
        "\n",
        "\n",
        "img_width, img_height = 224, 224\n",
        "num_classes = 2\n",
        "\n",
        "\n",
        "nb_train_samples = 1000\n",
        "nb_validation_samples = 200\n",
        "batch_size = 16\n",
        "\n",
        "train_datagen = ImageDataGenerator(\n",
        "    rescale=1. / 255,\n",
        "    shear_range=0.2,\n",
        "    zoom_range=0.2,\n",
        "    horizontal_flip=True\n",
        ")\n",
        "\n",
        "validation_datagen = ImageDataGenerator(rescale=1. / 255)\n",
        "\n",
        "train_generator = train_datagen.flow_from_directory(\n",
        "    train_data_dir,\n",
        "    target_size=(img_width, img_height),\n",
        "    batch_size=batch_size,\n",
        "    class_mode='categorical'\n",
        ")\n",
        "\n",
        "validation_generator = validation_datagen.flow_from_directory(\n",
        "    validation_data_dir,\n",
        "    target_size=(img_width, img_height),\n",
        "    batch_size=batch_size,\n",
        "    class_mode='categorical'\n",
        ")\n",
        "\n",
        "\n",
        "model = Sequential()\n",
        "model.add(Conv2D(32, (3, 3), input_shape=(img_width, img_height, 3), activation='relu'))\n",
        "model.add(MaxPooling2D(pool_size=(2, 2)))\n",
        "model.add(Conv2D(64, (3, 3), activation='relu'))\n",
        "model.add(MaxPooling2D(pool_size=(2, 2)))\n",
        "model.add(Conv2D(128, (3, 3), activation='relu'))\n",
        "model.add(MaxPooling2D(pool_size=(2, 2)))\n",
        "model.add(Flatten())\n",
        "model.add(Dense(128, activation='relu'))\n",
        "model.add(Dense(num_classes, activation='softmax'))\n",
        "\n",
        "\n",
        "model.compile(optimizer='adam', loss='categorical_crossentropy', metrics=['accuracy'])\n",
        "\n",
        "\n",
        "model.fit(\n",
        "    train_generator,\n",
        "    steps_per_epoch=nb_train_samples // batch_size,\n",
        "    epochs=5,\n",
        "    validation_data=validation_generator,\n",
        "    validation_steps=nb_validation_samples // batch_size\n",
        ")\n",
        "\n",
        "\n",
        "model.save('graph_classifier_model.h5')"
      ]
    },
    {
      "cell_type": "code",
      "source": [
        "import tensorflow as tf\n",
        "from tensorflow.keras.models import load_model\n",
        "from tensorflow.keras.preprocessing import image\n",
        "import numpy as np\n",
        "\n",
        "# Load the trained model\n",
        "model = load_model('graph_classifier_model.h5')\n",
        "\n",
        "# Path to the image you want to classify\n",
        "image_path = '/content/drive/MyDrive/dog.jpg'\n",
        "\n",
        "\n",
        "# Preprocess the image\n",
        "img = image.load_img(image_path, target_size=(224, 224))\n",
        "img_array = image.img_to_array(img)\n",
        "img_array = np.expand_dims(img_array, axis=0)\n",
        "img_array /= 255.\n",
        "\n",
        "# Make predictions\n",
        "prediction = model.predict(img_array)\n",
        "if prediction[0][0] > prediction[0][1]:\n",
        "    result = \"Graph\"\n",
        "else:\n",
        "    result = \"Non-Graph\"\n",
        "\n",
        "# Print the result\n",
        "print(\"The image is classified as:\", result)\n"
      ],
      "metadata": {
        "colab": {
          "base_uri": "https://localhost:8080/"
        },
        "id": "pNKkXJfPzcKM",
        "outputId": "dbe02186-ea4a-40ab-b9c0-96c90ca90927"
      },
      "execution_count": 8,
      "outputs": [
        {
          "output_type": "stream",
          "name": "stdout",
          "text": [
            "1/1 [==============================] - 0s 153ms/step\n",
            "The image is classified as: Non-Graph\n"
          ]
        }
      ]
    }
  ]
}